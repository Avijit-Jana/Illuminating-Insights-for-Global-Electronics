{
 "cells": [
  {
   "cell_type": "markdown",
   "metadata": {},
   "source": [
    "### Load data "
   ]
  },
  {
   "cell_type": "code",
   "execution_count": 1,
   "metadata": {},
   "outputs": [],
   "source": [
    "# Importing pandas library\n",
    "import pandas as pd \n",
    "\n",
    "# Load all datasets into pandas dataframes\n",
    "customers = pd.read_csv('D:\\\\Programming\\\\GUVI PROJECTS CODE\\\\PROJECT - 2\\\\Input Datasets\\\\Customers.csv', encoding='ISO-8859-1')\n",
    "exchange_rates = pd.read_csv('D:\\\\Programming\\\\GUVI PROJECTS CODE\\\\PROJECT - 2\\\\Input Datasets\\\\Exchange_Rates.csv', encoding='ISO-8859-1')\n",
    "products = pd.read_csv('D:\\\\Programming\\\\GUVI PROJECTS CODE\\\\PROJECT - 2\\\\Input Datasets\\\\Products.csv', encoding='ISO-8859-1')\n",
    "sales = pd.read_csv('D:\\\\Programming\\\\GUVI PROJECTS CODE\\\\PROJECT - 2\\\\Input Datasets\\\\Sales.csv', encoding='ISO-8859-1')\n",
    "stores = pd.read_csv('D:\\\\Programming\\\\GUVI PROJECTS CODE\\\\PROJECT - 2\\\\Input Datasets\\\\Stores.csv', encoding='ISO-8859-1')"
   ]
  },
  {
   "cell_type": "markdown",
   "metadata": {},
   "source": [
    "### Convert data types where necessary"
   ]
  },
  {
   "cell_type": "code",
   "execution_count": 2,
   "metadata": {},
   "outputs": [],
   "source": [
    "# convert to datetime\n",
    "customers['Birthday'] = pd.to_datetime(customers['Birthday']).dt.date\n",
    "exchange_rates['Date'] = pd.to_datetime(exchange_rates['Date']).dt.date\n",
    "sales['Order Date'] = pd.to_datetime(sales['Order Date'])  \n",
    "sales['Delivery Date'] = pd.to_datetime(sales['Delivery Date'])  \n",
    "stores['Open Date'] = pd.to_datetime(stores['Open Date']).dt.date"
   ]
  },
  {
   "cell_type": "markdown",
   "metadata": {},
   "source": [
    "### Check for missing and duplicate values"
   ]
  },
  {
   "cell_type": "code",
   "execution_count": 3,
   "metadata": {},
   "outputs": [
    {
     "name": "stdout",
     "output_type": "stream",
     "text": [
      "CustomerKey     0\n",
      "Gender          0\n",
      "Name            0\n",
      "City            0\n",
      "State Code     10\n",
      "State           0\n",
      "Zip Code        0\n",
      "Country         0\n",
      "Continent       0\n",
      "Birthday        0\n",
      "dtype: int64\n",
      "Date        0\n",
      "Currency    0\n",
      "Exchange    0\n",
      "dtype: int64\n",
      "ProductKey        0\n",
      "Product Name      0\n",
      "Brand             0\n",
      "Color             0\n",
      "Unit Cost USD     0\n",
      "Unit Price USD    0\n",
      "SubcategoryKey    0\n",
      "Subcategory       0\n",
      "CategoryKey       0\n",
      "Category          0\n",
      "dtype: int64\n",
      "Order Number         0\n",
      "Line Item            0\n",
      "Order Date           0\n",
      "Delivery Date    49719\n",
      "CustomerKey          0\n",
      "StoreKey             0\n",
      "ProductKey           0\n",
      "Quantity             0\n",
      "Currency Code        0\n",
      "dtype: int64\n",
      "StoreKey         0\n",
      "Country          0\n",
      "State            0\n",
      "Square Meters    1\n",
      "Open Date        0\n",
      "dtype: int64\n"
     ]
    }
   ],
   "source": [
    "# Check for missing values for all the datasets  \n",
    "print(customers.isnull().sum()) \n",
    "print(exchange_rates.isnull().sum())    \n",
    "print(products.isnull().sum())  \n",
    "print(sales.isnull().sum())\n",
    "print(stores.isnull().sum())"
   ]
  },
  {
   "cell_type": "code",
   "execution_count": 4,
   "metadata": {},
   "outputs": [
    {
     "name": "stdout",
     "output_type": "stream",
     "text": [
      "0\n",
      "0\n",
      "0\n",
      "0\n",
      "0\n"
     ]
    }
   ],
   "source": [
    "# Check for duplicates in all the datasets\n",
    "print(customers.duplicated().sum())\n",
    "print(exchange_rates.duplicated().sum())\n",
    "print(products.duplicated().sum())\n",
    "print(sales.duplicated().sum())\n",
    "print(stores.duplicated().sum())"
   ]
  },
  {
   "cell_type": "markdown",
   "metadata": {},
   "source": [
    "### Handling the missing values appropriately."
   ]
  },
  {
   "cell_type": "code",
   "execution_count": 5,
   "metadata": {},
   "outputs": [
    {
     "name": "stderr",
     "output_type": "stream",
     "text": [
      "C:\\Users\\aviji\\AppData\\Local\\Temp\\ipykernel_21680\\3230631468.py:2: FutureWarning: A value is trying to be set on a copy of a DataFrame or Series through chained assignment using an inplace method.\n",
      "The behavior will change in pandas 3.0. This inplace method will never work because the intermediate object on which we are setting values always behaves as a copy.\n",
      "\n",
      "For example, when doing 'df[col].method(value, inplace=True)', try using 'df.method({col: value}, inplace=True)' or df[col] = df[col].method(value) instead, to perform the operation inplace on the original object.\n",
      "\n",
      "\n",
      "  customers['State Code'].fillna('Unknown',inplace=True)  # Fill missing State Code with 'Unknown'\n",
      "C:\\Users\\aviji\\AppData\\Local\\Temp\\ipykernel_21680\\3230631468.py:9: FutureWarning: A value is trying to be set on a copy of a DataFrame or Series through chained assignment using an inplace method.\n",
      "The behavior will change in pandas 3.0. This inplace method will never work because the intermediate object on which we are setting values always behaves as a copy.\n",
      "\n",
      "For example, when doing 'df[col].method(value, inplace=True)', try using 'df.method({col: value}, inplace=True)' or df[col] = df[col].method(value) instead, to perform the operation inplace on the original object.\n",
      "\n",
      "\n",
      "  sales['Delivery Date'].fillna(sales['Order Date'] + pd.to_timedelta(mean_day, unit='D'),inplace=True)   # Fill missing values in 'Delivery Date' with the mean of the difference between 'Delivery Date' and 'Order Date'\n",
      "C:\\Users\\aviji\\AppData\\Local\\Temp\\ipykernel_21680\\3230631468.py:14: FutureWarning: A value is trying to be set on a copy of a DataFrame or Series through chained assignment using an inplace method.\n",
      "The behavior will change in pandas 3.0. This inplace method will never work because the intermediate object on which we are setting values always behaves as a copy.\n",
      "\n",
      "For example, when doing 'df[col].method(value, inplace=True)', try using 'df.method({col: value}, inplace=True)' or df[col] = df[col].method(value) instead, to perform the operation inplace on the original object.\n",
      "\n",
      "\n",
      "  stores['Square Meters'].fillna(0, inplace=True)    # Fill missing values in 'Square Meters' with 0\n"
     ]
    }
   ],
   "source": [
    "# Handling missing values in the customers dataset\n",
    "customers['State Code'].fillna('Unknown',inplace=True)  # Fill missing State Code with 'Unknown'\n",
    "customers['Zip Code'] = customers['Zip Code'].fillna(0)  # Fill missing values in 'Zip Code' with 0\n",
    "\n",
    "\n",
    "# Handling missing values in the sales dataset\n",
    "day = (sales['Delivery Date'] - sales['Order Date']).dt.days    # Calculate the difference between 'Delivery Date' and 'Order Date'   # Convert the difference to days\n",
    "mean_day = day.mean()   # Calculate the mean of the difference between 'Delivery Date' and 'Order Date'\n",
    "sales['Delivery Date'].fillna(sales['Order Date'] + pd.to_timedelta(mean_day, unit='D'),inplace=True)   # Fill missing values in 'Delivery Date' with the mean of the difference between 'Delivery Date' and 'Order Date'\n",
    "sales['Delivery Date'] = sales['Delivery Date'].dt.date  # Convert 'Delivery Date' to date\n",
    "\n",
    "\n",
    "# Handling missing values in the stores dataset\n",
    "stores['Square Meters'].fillna(0, inplace=True)    # Fill missing values in 'Square Meters' with 0"
   ]
  },
  {
   "cell_type": "code",
   "execution_count": 6,
   "metadata": {},
   "outputs": [
    {
     "name": "stdout",
     "output_type": "stream",
     "text": [
      "CustomerKey    0\n",
      "Gender         0\n",
      "Name           0\n",
      "City           0\n",
      "State Code     0\n",
      "State          0\n",
      "Zip Code       0\n",
      "Country        0\n",
      "Continent      0\n",
      "Birthday       0\n",
      "dtype: int64\n",
      "Date        0\n",
      "Currency    0\n",
      "Exchange    0\n",
      "dtype: int64\n",
      "ProductKey        0\n",
      "Product Name      0\n",
      "Brand             0\n",
      "Color             0\n",
      "Unit Cost USD     0\n",
      "Unit Price USD    0\n",
      "SubcategoryKey    0\n",
      "Subcategory       0\n",
      "CategoryKey       0\n",
      "Category          0\n",
      "dtype: int64\n",
      "Order Number     0\n",
      "Line Item        0\n",
      "Order Date       0\n",
      "Delivery Date    0\n",
      "CustomerKey      0\n",
      "StoreKey         0\n",
      "ProductKey       0\n",
      "Quantity         0\n",
      "Currency Code    0\n",
      "dtype: int64\n",
      "StoreKey         0\n",
      "Country          0\n",
      "State            0\n",
      "Square Meters    0\n",
      "Open Date        0\n",
      "dtype: int64\n"
     ]
    }
   ],
   "source": [
    "# Check for missing values for all the datasets  \n",
    "print(customers.isnull().sum()) \n",
    "print(exchange_rates.isnull().sum())    \n",
    "print(products.isnull().sum())  \n",
    "print(sales.isnull().sum())\n",
    "print(stores.isnull().sum())"
   ]
  },
  {
   "cell_type": "markdown",
   "metadata": {},
   "source": [
    "### store data in a database"
   ]
  },
  {
   "cell_type": "code",
   "execution_count": 7,
   "metadata": {},
   "outputs": [],
   "source": [
    "import sqlite3\n",
    "\n",
    "# Create a database connection\n",
    "conn = sqlite3.connect('D:\\\\Programming\\\\GUVI PROJECTS CODE\\\\PROJECT - 2\\\\Output Storage\\\\data.db')\n",
    "\n",
    "# Load all datasets into the database\n",
    "customers.to_sql('customers', conn, if_exists='replace', index=False)\n",
    "exchange_rates.to_sql('exchange_rates', conn, if_exists='replace', index=False)\n",
    "products.to_sql('products', conn, if_exists='replace', index=False)\n",
    "sales.to_sql('sales', conn, if_exists='replace', index=False)\n",
    "stores.to_sql('stores', conn, if_exists='replace', index=False)\n",
    "\n",
    "# Close the database connection\n",
    "conn.close()\n"
   ]
  }
 ],
 "metadata": {
  "kernelspec": {
   "display_name": "Python 3",
   "language": "python",
   "name": "python3"
  },
  "language_info": {
   "codemirror_mode": {
    "name": "ipython",
    "version": 3
   },
   "file_extension": ".py",
   "mimetype": "text/x-python",
   "name": "python",
   "nbconvert_exporter": "python",
   "pygments_lexer": "ipython3",
   "version": "3.12.3"
  }
 },
 "nbformat": 4,
 "nbformat_minor": 2
}
