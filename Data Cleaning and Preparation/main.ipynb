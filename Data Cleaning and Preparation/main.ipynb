{
 "cells": [
  {
   "cell_type": "markdown",
   "metadata": {},
   "source": [
    "### Load data "
   ]
  },
  {
   "cell_type": "code",
   "execution_count": 1,
   "metadata": {},
   "outputs": [],
   "source": [
    "# Importing pandas library\n",
    "import pandas as pd \n",
    "\n",
    "# Load all datasets into pandas dataframes\n",
    "customers = pd.read_csv('Input Datasets\\\\Customers.csv', encoding='ISO-8859-1')\n",
    "exchange_rates = pd.read_csv('Input Datasets\\\\Exchange_Rates.csv', encoding='ISO-8859-1')\n",
    "products = pd.read_csv('Input Datasets\\\\Products.csv', encoding='ISO-8859-1')\n",
    "sales = pd.read_csv('Input Datasets\\\\Sales.csv', encoding='ISO-8859-1')\n",
    "stores = pd.read_csv('Input Datasets\\\\Stores.csv', encoding='ISO-8859-1')"
   ]
  },
  {
   "cell_type": "markdown",
   "metadata": {},
   "source": [
    "### Convert data types where necessary"
   ]
  },
  {
   "cell_type": "code",
   "execution_count": 2,
   "metadata": {},
   "outputs": [],
   "source": [
    "# convert to datetime\n",
    "customers['Birthday'] = pd.to_datetime(customers['Birthday']).dt.date\n",
    "exchange_rates['Date'] = pd.to_datetime(exchange_rates['Date']).dt.date\n",
    "sales['Order Date'] = pd.to_datetime(sales['Order Date'])  \n",
    "sales['Delivery Date'] = pd.to_datetime(sales['Delivery Date'])  \n",
    "stores['Open Date'] = pd.to_datetime(stores['Open Date']).dt.date"
   ]
  },
  {
   "cell_type": "markdown",
   "metadata": {},
   "source": [
    "### Check for missing and duplicate values"
   ]
  },
  {
   "cell_type": "code",
   "execution_count": null,
   "metadata": {},
   "outputs": [],
   "source": [
    "# Check for missing values for all the datasets  \n",
    "print(customers.isnull().sum()) \n",
    "print(exchange_rates.isnull().sum())    \n",
    "print(products.isnull().sum())  \n",
    "print(sales.isnull().sum())\n",
    "print(stores.isnull().sum())"
   ]
  },
  {
   "cell_type": "code",
   "execution_count": null,
   "metadata": {},
   "outputs": [],
   "source": [
    "# Check for duplicates in all the datasets\n",
    "print(customers.duplicated().sum())\n",
    "print(exchange_rates.duplicated().sum())\n",
    "print(products.duplicated().sum())\n",
    "print(sales.duplicated().sum())\n",
    "print(stores.duplicated().sum())"
   ]
  },
  {
   "cell_type": "markdown",
   "metadata": {},
   "source": [
    "### Handling the missing values appropriately."
   ]
  },
  {
   "cell_type": "code",
   "execution_count": null,
   "metadata": {},
   "outputs": [],
   "source": [
    "# Handling missing values in the customers dataset\n",
    "customers['State Code'].fillna('Unknown',inplace=True)  # Fill missing State Code with 'Unknown'\n",
    "customers['Zip Code'] = customers['Zip Code'].fillna(0)  # Fill missing values in 'Zip Code' with 0\n",
    "\n",
    "\n",
    "# Handling missing values in the sales dataset\n",
    "day = (sales['Delivery Date'] - sales['Order Date']).dt.days    # Calculate the difference between 'Delivery Date' and 'Order Date'   # Convert the difference to days\n",
    "mean_day = day.mean()   # Calculate the mean of the difference between 'Delivery Date' and 'Order Date'\n",
    "sales['Delivery Date'].fillna(sales['Order Date'] + pd.to_timedelta(mean_day, unit='D'),inplace=True)   # Fill missing values in 'Delivery Date' with the mean of the difference between 'Delivery Date' and 'Order Date'\n",
    "sales['Delivery Date'] = sales['Delivery Date'].dt.date  # Convert 'Delivery Date' to date\n",
    "\n",
    "\n",
    "# Handling missing values in the stores dataset\n",
    "stores['Square Meters'].fillna(stores['Square Meters'].mean(), inplace=True)    # Fill missing values in 'Square Meters' with the mean of 'Square Meters'"
   ]
  },
  {
   "cell_type": "code",
   "execution_count": null,
   "metadata": {},
   "outputs": [],
   "source": [
    "# Check for missing values for all the datasets  \n",
    "print(customers.isnull().sum()) \n",
    "print(exchange_rates.isnull().sum())    \n",
    "print(products.isnull().sum())  \n",
    "print(sales.isnull().sum())\n",
    "print(stores.isnull().sum())"
   ]
  },
  {
   "cell_type": "markdown",
   "metadata": {},
   "source": [
    "### store data in a database"
   ]
  },
  {
   "cell_type": "code",
   "execution_count": 7,
   "metadata": {},
   "outputs": [],
   "source": [
    "import sqlite3\n",
    "\n",
    "# Create a database connection\n",
    "conn = sqlite3.connect('Output Storage\\\\data.db')\n",
    "\n",
    "# Load all datasets into the database\n",
    "customers.to_sql('customers', conn, if_exists='replace', index=False)\n",
    "exchange_rates.to_sql('exchange_rates', conn, if_exists='replace', index=False)\n",
    "products.to_sql('products', conn, if_exists='replace', index=False)\n",
    "sales.to_sql('sales', conn, if_exists='replace', index=False)\n",
    "stores.to_sql('stores', conn, if_exists='replace', index=False)\n",
    "\n",
    "# Close the database connection\n",
    "conn.close()\n"
   ]
  }
 ],
 "metadata": {
  "kernelspec": {
   "display_name": "Python 3",
   "language": "python",
   "name": "python3"
  },
  "language_info": {
   "codemirror_mode": {
    "name": "ipython",
    "version": 3
   },
   "file_extension": ".py",
   "mimetype": "text/x-python",
   "name": "python",
   "nbconvert_exporter": "python",
   "pygments_lexer": "ipython3",
   "version": "3.12.3"
  }
 },
 "nbformat": 4,
 "nbformat_minor": 2
}
